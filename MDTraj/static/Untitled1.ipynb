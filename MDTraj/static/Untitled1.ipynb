{
 "metadata": {
  "name": "",
  "signature": "sha256:d2876685c485ca7d96d02b31f40165048cbb6feb50a4b4c8704f01d328ee378f"
 },
 "nbformat": 3,
 "nbformat_minor": 0,
 "worksheets": [
  {
   "cells": [
    {
     "cell_type": "code",
     "collapsed": false,
     "input": [
      "%%javascript\n",
      "require.config({\n",
      "    paths: {\n",
      "        'three': '//cdnjs.cloudflare.com/ajax/libs/three.js/r68/three.min',\n",
      "    },\n",
      "    shim: {\n",
      "        'three': {\n",
      "            exports: 'THREE'\n",
      "        },\n",
      "    },\n",
      "});\n",
      "\n",
      "require([\"widgets/js/widget\",\n",
      "         \"files/RMol.js\",\n",
      "         \"three\"],\n",
      "function(WidgetManager, RMol, THREE){\n",
      "    var ThreeWidgetView = IPython.DOMWidgetView.extend({\n",
      "        render : function(){\n",
      "            var container = $(\"<div>\").css({\n",
      "                width: '302px',\n",
      "                height: '302px', border:'1px solid #ccc',\n",
      "                margin: 'auto'}).append(\n",
      "                    $('<div id=\"inner\">').css({\n",
      "                        position: 'absolute',\n",
      "                        width: '300px',\n",
      "                        height: '300px',\n",
      "                    })\n",
      "            );\n",
      "            this.setElement(container);\n",
      "            this.rmol = new RMol(container);\n",
      "        }\n",
      "    });\n",
      "    \n",
      "    // Register the DatePickerView with the widget manager.\n",
      "    WidgetManager.register_widget_view('ThreeWidgetView', ThreeWidgetView);\n",
      "});\n"
     ],
     "language": "python",
     "metadata": {},
     "outputs": [
      {
       "javascript": [
        "require.config({\n",
        "    paths: {\n",
        "        'three': '//cdnjs.cloudflare.com/ajax/libs/three.js/r68/three.min',\n",
        "    },\n",
        "    shim: {\n",
        "        'three': {\n",
        "            exports: 'THREE'\n",
        "        },\n",
        "    },\n",
        "});\n",
        "\n",
        "require([\"widgets/js/widget\",\n",
        "         \"files/RMol.js\",\n",
        "         \"three\"],\n",
        "function(WidgetManager, RMol, THREE){\n",
        "    var ThreeWidgetView = IPython.DOMWidgetView.extend({\n",
        "        render : function(){\n",
        "            var container = $(\"<div>\").css({\n",
        "                width: '302px',\n",
        "                height: '302px', border:'1px solid #ccc',\n",
        "                margin: 'auto'}).append(\n",
        "                    $('<div id=\"inner\">').css({\n",
        "                        position: 'absolute',\n",
        "                        width: '300px',\n",
        "                        height: '300px',\n",
        "                    })\n",
        "            );\n",
        "            this.setElement(container);\n",
        "            this.rmol = new RMol(container);\n",
        "        }\n",
        "    });\n",
        "    \n",
        "    // Register the DatePickerView with the widget manager.\n",
        "    WidgetManager.register_widget_view('ThreeWidgetView', ThreeWidgetView);\n",
        "});"
       ],
       "metadata": {},
       "output_type": "display_data",
       "text": [
        "<IPython.core.display.Javascript at 0x104993990>"
       ]
      }
     ],
     "prompt_number": 103
    },
    {
     "cell_type": "code",
     "collapsed": false,
     "input": [
      "from IPython.utils.traitlets import Unicode\n",
      "from IPython.html import widgets\n",
      "class GLMolWidget(widgets.DOMWidget):\n",
      "    _view_name = Unicode('ThreeWidgetView', sync=True)\n",
      "GLMolWidget()"
     ],
     "language": "python",
     "metadata": {},
     "outputs": [],
     "prompt_number": 102
    },
    {
     "cell_type": "code",
     "collapsed": false,
     "input": [],
     "language": "python",
     "metadata": {},
     "outputs": [],
     "prompt_number": 99
    },
    {
     "cell_type": "code",
     "collapsed": false,
     "input": [],
     "language": "python",
     "metadata": {},
     "outputs": []
    }
   ],
   "metadata": {}
  }
 ]
}