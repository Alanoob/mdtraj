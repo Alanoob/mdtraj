{
 "metadata": {
  "name": "",
  "signature": "sha256:fb1e12df0dfcd1bc5cfc5f5d0717b0b81b6ca7eed9e633410a7515e9cbe78d8e"
 },
 "nbformat": 3,
 "nbformat_minor": 0,
 "worksheets": [
  {
   "cells": [
    {
     "cell_type": "code",
     "collapsed": false,
     "input": [
      "%%javascript\n",
      "require.config({\n",
      "    urlArgs: \"bust=\" + (new Date()).getTime(),\n",
      "    paths: {\n",
      "        'three': '//cdnjs.cloudflare.com/ajax/libs/three.js/r68/three.min',\n",
      "    },\n",
      "    shim: {\n",
      "        'three': {\n",
      "            exports: 'THREE'\n",
      "        },\n",
      "    },\n",
      "});\n",
      "\n",
      "require([\"widgets/js/widget\",\n",
      "         \"RMol.js\",\n",
      "         \"three\"],\n",
      "function(WidgetManager, RMol, THREE){\n",
      "    var ThreeWidgetView = IPython.DOMWidgetView.extend({\n",
      "        render : function(){\n",
      "            var container = $(\"<div>\").css({\n",
      "                width: '302px',\n",
      "                height: '302px', border:'1px solid #ccc',\n",
      "                margin: 'auto'}).append(\n",
      "                    $('<div id=\"inner\">').css({\n",
      "                        position: 'absolute',\n",
      "                        width: '300px',\n",
      "                        height: '300px',\n",
      "                    })\n",
      "            );\n",
      "            this.setElement(container);\n",
      "            this.rmol = new RMol(container);\n",
      "        }\n",
      "    });\n",
      "    \n",
      "    // Register the DatePickerView with the widget manager.\n",
      "    WidgetManager.register_widget_view('ThreeWidgetView', ThreeWidgetView);\n",
      "});\n"
     ],
     "language": "python",
     "metadata": {},
     "outputs": [
      {
       "javascript": [
        "require.config({\n",
        "    urlArgs: \"bust=\" + (new Date()).getTime(),\n",
        "    paths: {\n",
        "        'three': '//cdnjs.cloudflare.com/ajax/libs/three.js/r68/three.min',\n",
        "    },\n",
        "    shim: {\n",
        "        'three': {\n",
        "            exports: 'THREE'\n",
        "        },\n",
        "    },\n",
        "});\n",
        "\n",
        "require([\"widgets/js/widget\",\n",
        "         \"RMol.js\",\n",
        "         \"three\"],\n",
        "function(WidgetManager, RMol, THREE){\n",
        "    var ThreeWidgetView = IPython.DOMWidgetView.extend({\n",
        "        render : function(){\n",
        "            var container = $(\"<div>\").css({\n",
        "                width: '302px',\n",
        "                height: '302px', border:'1px solid #ccc',\n",
        "                margin: 'auto'}).append(\n",
        "                    $('<div id=\"inner\">').css({\n",
        "                        position: 'absolute',\n",
        "                        width: '300px',\n",
        "                        height: '300px',\n",
        "                    })\n",
        "            );\n",
        "            this.setElement(container);\n",
        "            this.rmol = new RMol(container);\n",
        "        }\n",
        "    });\n",
        "    \n",
        "    // Register the DatePickerView with the widget manager.\n",
        "    WidgetManager.register_widget_view('ThreeWidgetView', ThreeWidgetView);\n",
        "});"
       ],
       "metadata": {},
       "output_type": "display_data",
       "text": [
        "<IPython.core.display.Javascript at 0x104993550>"
       ]
      }
     ],
     "prompt_number": 92
    },
    {
     "cell_type": "code",
     "collapsed": false,
     "input": [
      "from IPython.utils.traitlets import Unicode\n",
      "from IPython.html import widgets\n",
      "class GLMolWidget(widgets.DOMWidget):\n",
      "    _view_name = Unicode('ThreeWidgetView', sync=True)\n",
      "GLMolWidget()"
     ],
     "language": "python",
     "metadata": {},
     "outputs": [],
     "prompt_number": 93
    },
    {
     "cell_type": "code",
     "collapsed": false,
     "input": [],
     "language": "python",
     "metadata": {},
     "outputs": []
    },
    {
     "cell_type": "code",
     "collapsed": false,
     "input": [],
     "language": "python",
     "metadata": {},
     "outputs": []
    }
   ],
   "metadata": {}
  }
 ]
}