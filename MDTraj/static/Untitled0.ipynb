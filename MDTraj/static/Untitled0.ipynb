{
 "metadata": {
  "name": "",
  "signature": "sha256:bc9a3372faced67ad6f1aa24100669e635d9965bc5c3ca7b1dd61fd117ebb856"
 },
 "nbformat": 3,
 "nbformat_minor": 0,
 "worksheets": [
  {
   "cells": [
    {
     "cell_type": "code",
     "collapsed": false,
     "input": [
      "from IPython.utils.traitlets import Unicode\n",
      "from IPython.html import widgets\n",
      "from IPython.display import Javascript, display"
     ],
     "language": "python",
     "metadata": {},
     "outputs": []
    },
    {
     "cell_type": "code",
     "collapsed": false,
     "input": [
      "%%javascript\n",
      "requirejs.config({\n",
      "    paths: {\n",
      "        'three': '//cdnjs.cloudflare.com/ajax/libs/three.js/r68/three.min',\n",
      "    },\n",
      "    shim: {\n",
      "        'three': {\n",
      "            exports: 'THREE'\n",
      "        },\n",
      "    },\n",
      "});\n",
      "\n",
      "require([\"widgets/js/widget\",\n",
      "         \"three\",\n",
      "         \"GLmol2.js\"],\n",
      "function(WidgetManager, THREE, GLmol){\n",
      "    var GLMolWidgetView = IPython.DOMWidgetView.extend({\n",
      "        render : function(){\n",
      "            // Called when view is rendered.\n",
      "            this.setElement($(\"<p>Hello WOrld!</p>\"));\n",
      "            console.log(GLmol);\n",
      "            // this.update(); // Set defaults.\n",
      "        },\n",
      "\n",
      "    });\n",
      "    // Register the DatePickerView with the widget manager.\n",
      "    WidgetManager.register_widget_view('GLMolWidgetView', GLMolWidgetView);\n",
      "});"
     ],
     "language": "python",
     "metadata": {},
     "outputs": [
      {
       "javascript": [
        "requirejs.config({\n",
        "    paths: {\n",
        "        'three': '//cdnjs.cloudflare.com/ajax/libs/three.js/r68/three.min',\n",
        "    },\n",
        "    shim: {\n",
        "        'three': {\n",
        "            exports: 'THREE'\n",
        "        },\n",
        "    },\n",
        "});\n",
        "\n",
        "require([\"widgets/js/widget\",\n",
        "         \"three\",\n",
        "         \"GLmol2.js\"],\n",
        "function(WidgetManager, THREE, GLmol){\n",
        "    var GLMolWidgetView = IPython.DOMWidgetView.extend({\n",
        "        render : function(){\n",
        "            // Called when view is rendered.\n",
        "            this.setElement($(\"<p>Hello WOrld!</p>\"));\n",
        "            alert(GLmol);\n",
        "            console.log(GLmol);\n",
        "            // this.update(); // Set defaults.\n",
        "        },\n",
        "\n",
        "    });\n",
        "    // Register the DatePickerView with the widget manager.\n",
        "    WidgetManager.register_widget_view('GLMolWidgetView', GLMolWidgetView);\n",
        "});"
       ],
       "metadata": {},
       "output_type": "display_data",
       "text": [
        "<IPython.core.display.Javascript at 0x1049228d0>"
       ]
      }
     ],
     "prompt_number": 54
    },
    {
     "cell_type": "code",
     "collapsed": false,
     "input": [
      "class DateWidget(widgets.DOMWidget):\n",
      "    _view_name = Unicode('GLMolWidgetView', sync=True)\n",
      "    attribute = Unicode('sdf', sync=True);\n",
      "\n",
      "DateWidget()"
     ],
     "language": "python",
     "metadata": {},
     "outputs": [],
     "prompt_number": 55
    },
    {
     "cell_type": "code",
     "collapsed": false,
     "input": [],
     "language": "python",
     "metadata": {},
     "outputs": []
    },
    {
     "cell_type": "code",
     "collapsed": false,
     "input": [],
     "language": "python",
     "metadata": {},
     "outputs": []
    },
    {
     "cell_type": "code",
     "collapsed": false,
     "input": [],
     "language": "python",
     "metadata": {},
     "outputs": []
    }
   ],
   "metadata": {}
  }
 ]
}