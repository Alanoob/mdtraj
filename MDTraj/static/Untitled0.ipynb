{
 "metadata": {
  "name": "",
  "signature": "sha256:dd2479650c55eb7eded4c517bc3a64cde22929cdddf51fdbd6b8ddd043792422"
 },
 "nbformat": 3,
 "nbformat_minor": 0,
 "worksheets": [
  {
   "cells": [
    {
     "cell_type": "code",
     "collapsed": false,
     "input": [
      "%%html\n",
      "<script>\n",
      "require.config({\n",
      "    urlArgs: \"bust=26\",\n",
      "    paths: {\n",
      "        'three': '//cdnjs.cloudflare.com/ajax/libs/three.js/r68/three.min',\n",
      "        'RMol': '//localhost:8000/RMol',\n",
      "    },\n",
      "    shim: {\n",
      "        'three': {\n",
      "            exports: 'THREE'\n",
      "        },\n",
      "    },\n",
      "});\n",
      "\n",
      "require([\"RMol\", \"three\"],\n",
      "function(RMol, Three) {            \n",
      "    var container = $(\"#element\").css({\n",
      "                    width: '302px',\n",
      "                    height: '302px', border:'1px solid #ccc',\n",
      "                    margin: 'auto'}).append(\n",
      "                        $('<div id=\"inner\">').css({\n",
      "                            position: 'absolute',\n",
      "                            width: '300px',\n",
      "                            height: '300px',\n",
      "                        })\n",
      "                );\n",
      "    var rmol = new RMol(container);\n",
      "});\n",
      "</script>\n",
      "<div id=\"element\"></div>"
     ],
     "language": "python",
     "metadata": {},
     "outputs": [
      {
       "html": [
        "<script>\n",
        "require.config({\n",
        "    urlArgs: \"bust=26\",\n",
        "    paths: {\n",
        "        'three': '//cdnjs.cloudflare.com/ajax/libs/three.js/r68/three.min',\n",
        "        'RMol': '//localhost:8000/RMol',\n",
        "    },\n",
        "    shim: {\n",
        "        'three': {\n",
        "            exports: 'THREE'\n",
        "        },\n",
        "    },\n",
        "});\n",
        "\n",
        "require([\"RMol\", \"three\"],\n",
        "function(RMol, Three) {            \n",
        "    var container = $(\"#element\").css({\n",
        "                    width: '302px',\n",
        "                    height: '302px', border:'1px solid #ccc',\n",
        "                    margin: 'auto'}).append(\n",
        "                        $('<div id=\"inner\">').css({\n",
        "                            position: 'absolute',\n",
        "                            width: '300px',\n",
        "                            height: '300px',\n",
        "                        })\n",
        "                );\n",
        "    var rmol = new RMol(container);\n",
        "});\n",
        "</script>\n",
        "<div id=\"element\"></div>"
       ],
       "metadata": {},
       "output_type": "display_data",
       "text": [
        "<IPython.core.display.HTML at 0x1068e7ed0>"
       ]
      }
     ],
     "prompt_number": 177
    },
    {
     "cell_type": "code",
     "collapsed": false,
     "input": [],
     "language": "python",
     "metadata": {},
     "outputs": [],
     "prompt_number": 175
    },
    {
     "cell_type": "code",
     "collapsed": false,
     "input": [],
     "language": "python",
     "metadata": {},
     "outputs": []
    }
   ],
   "metadata": {}
  }
 ]
}