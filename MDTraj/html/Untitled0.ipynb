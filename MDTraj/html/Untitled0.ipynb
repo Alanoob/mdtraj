{
 "metadata": {
  "name": "",
  "signature": "sha256:862a9338f5515e40fb244007696298e78715b3220c39e7111035a06dedaeb7a9"
 },
 "nbformat": 3,
 "nbformat_minor": 0,
 "worksheets": [
  {
   "cells": [
    {
     "cell_type": "code",
     "collapsed": false,
     "input": [
      "%load_ext autoreload\n",
      "%autoreload 2\n",
      "from __future__ import absolute_import\n",
      "import mdtraj as md\n",
      "t = md.load('/Users/rmcgibbo/projects/mdtraj/MDTraj/testing/reference/2EQQ.pdb')"
     ],
     "language": "python",
     "metadata": {},
     "outputs": [],
     "prompt_number": 1
    },
    {
     "cell_type": "code",
     "collapsed": false,
     "input": [
      "from trajectory_widget import TrajectoryWidget\n",
      "widget = TrajectoryWidget(t)\n",
      "widget"
     ],
     "language": "python",
     "metadata": {},
     "outputs": [
      {
       "javascript": [
        "\n",
        "require.config({\n",
        "    paths: {\n",
        "        'three': '//cdnjs.cloudflare.com/ajax/libs/three.js/r68/three.min',\n",
        "        'three/trackball' : 'http://mrdoob.github.io/three.js/examples/js/controls/TrackballControls',\n",
        "        'rmol' : 'libs/RMol',\n",
        "    },\n",
        "    shim: {\n",
        "        'three': {\n",
        "            exports: 'THREE'\n",
        "        },\n",
        "        'three/trackball': {\n",
        "            deps: ['three'],\n",
        "            exports: 'THREE'\n",
        "        },\n",
        "    },\n",
        "});\n",
        "console.log(\"setting shims\");\n"
       ],
       "metadata": {},
       "output_type": "display_data",
       "text": [
        "<IPython.core.display.Javascript at 0x104444e90>"
       ]
      },
      {
       "javascript": [
        "require([\n",
        "    \"widgets/js/widget\",\n",
        "    \"three\",\n",
        "    \"three/trackball\",\n",
        "    ],\n",
        "function(WidgetManager, THREE, RMol) {\n",
        "    console.log(\"Setting up TrajectoryView\");\n",
        "    console.log(THREE);\n",
        "    console.log(THREE.TrackballControls);\n",
        "    var TrajectoryView = IPython.DOMWidgetView.extend({\n",
        "        render : function() {\n",
        "            this.setElement($(\"<p>Hello !!@ World</p>\"));\n",
        "        }\n",
        "    });\n",
        "    WidgetManager.register_widget_view('TrajectoryView', TrajectoryView);\n",
        "});"
       ],
       "metadata": {},
       "output_type": "display_data",
       "text": [
        "<IPython.core.display.Javascript at 0x107ad0210>"
       ]
      }
     ],
     "prompt_number": 2
    },
    {
     "cell_type": "code",
     "collapsed": false,
     "input": [],
     "language": "python",
     "metadata": {},
     "outputs": []
    }
   ],
   "metadata": {}
  }
 ]
}