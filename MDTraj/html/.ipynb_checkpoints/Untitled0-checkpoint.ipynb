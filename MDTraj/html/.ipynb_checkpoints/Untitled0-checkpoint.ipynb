{
 "metadata": {
  "name": "",
  "signature": "sha256:ddddb4a59c9b59c7180e6324460e77ac3b4f4a231ef8298659f32b80c11b5ec9"
 },
 "nbformat": 3,
 "nbformat_minor": 0,
 "worksheets": [
  {
   "cells": [
    {
     "cell_type": "code",
     "collapsed": false,
     "input": [
      "%load_ext autoreload\n",
      "%autoreload 2\n",
      "from __future__ import absolute_import\n",
      "import mdtraj as md\n",
      "t = md.load('/Users/rmcgibbo/projects/mdtraj/MDTraj/testing/reference/2EQQ.pdb')"
     ],
     "language": "python",
     "metadata": {},
     "outputs": [],
     "prompt_number": 1
    },
    {
     "cell_type": "code",
     "collapsed": false,
     "input": [
      "from trajectory_widget import TrajectoryWidget, enable_notebook\n",
      "enable_notebook()"
     ],
     "language": "python",
     "metadata": {},
     "outputs": [
      {
       "javascript": [
        "require([\n",
        "    \"widgets/js/widget\",\n",
        "    \"rmol\",\n",
        "    ],\n",
        "function(WidgetManager, RMol) {\n",
        "    var TrajectoryView = IPython.DOMWidgetView.extend({\n",
        "        render : function() {\n",
        "            var container = $(\"<div/>\").css({\n",
        "                            width: '502px',\n",
        "                            height: '502px', border:'1px solid #ccc',\n",
        "                            margin: 'auto'}).append(\n",
        "                                $('<div id=\"inner\">').css({\n",
        "                                    position: 'absolute',\n",
        "                                    width: '500px',\n",
        "                                    height: '500px',\n",
        "                                })\n",
        "                        );\n",
        "            this.setElement(container);\n",
        "            \n",
        "            console.log(container);\n",
        "            this.setElement(container);\n",
        "            console.log(\"Creating RMol\");\n",
        "            this.rmol = new RMol(container);\n",
        "            window.model = this.model;\n",
        "            this.rmol.setTopology(this.model.attributes._topology);\n",
        "            //\n",
        "            // representation = {\n",
        "            //     color: 'chainbow',\n",
        "            //     mainChain: 'thickRibbon',\n",
        "            //     sideChains: 'line'\n",
        "            // };\n",
        "            //\n",
        "            // this.rmol.setRepresentation(representation);\n",
        "            // this.update();\n",
        "        },\n",
        "        \n",
        "        update : function () {\n",
        "            this.rmol.setXYZ(this.model.attributes._xyz);\n",
        "            this.rmol.zoomInto(this.rmol.getAllAtoms());\n",
        "            this.rmol.render();\n",
        "        }\n",
        "    });\n",
        "    WidgetManager.register_widget_view('TrajectoryView', TrajectoryView);\n",
        "});"
       ],
       "metadata": {},
       "output_type": "display_data",
       "text": [
        "<IPython.core.display.Javascript at 0x10445bf50>"
       ]
      },
      {
       "javascript": [
        "\n",
        "require.config({\n",
        "    paths: {\n",
        "        'three': '//cdnjs.cloudflare.com/ajax/libs/three.js/r68/three.min',\n",
        "        'three/trackball' : 'http://mrdoob.github.io/three.js/examples/js/controls/TrackballControls',\n",
        "        'rmol' : 'http://rawgit.com/rmcgibbo/mdtraj/notebook/MDTraj/html/libs/RMol',\n",
        "    },\n",
        "    shim: {\n",
        "        'three': {\n",
        "            exports: 'THREE'\n",
        "        },\n",
        "        'three/trackball': {\n",
        "            deps: ['three'],\n",
        "            exports: 'THREE'\n",
        "        },\n",
        "    },\n",
        "});\n",
        "console.log(\"setting shims\");\n"
       ],
       "metadata": {},
       "output_type": "display_data",
       "text": [
        "<IPython.core.display.Javascript at 0x107ad5350>"
       ]
      }
     ],
     "prompt_number": 2
    },
    {
     "cell_type": "code",
     "collapsed": false,
     "input": [
      "widget = TrajectoryWidget(t)\n",
      "widget._toplogy\n",
      "widget"
     ],
     "language": "python",
     "metadata": {},
     "outputs": [
      {
       "ename": "AttributeError",
       "evalue": "'TrajectoryWidget' object has no attribute '_toplogy'",
       "output_type": "pyerr",
       "traceback": [
        "\u001b[0;31m---------------------------------------------------------------------------\u001b[0m\n\u001b[0;31mAttributeError\u001b[0m                            Traceback (most recent call last)",
        "\u001b[0;32m<ipython-input-3-93f9b4490494>\u001b[0m in \u001b[0;36m<module>\u001b[0;34m()\u001b[0m\n\u001b[1;32m      1\u001b[0m \u001b[0mwidget\u001b[0m \u001b[0;34m=\u001b[0m \u001b[0mTrajectoryWidget\u001b[0m\u001b[0;34m(\u001b[0m\u001b[0mt\u001b[0m\u001b[0;34m)\u001b[0m\u001b[0;34m\u001b[0m\u001b[0m\n\u001b[0;32m----> 2\u001b[0;31m \u001b[0mwidget\u001b[0m\u001b[0;34m.\u001b[0m\u001b[0m_toplogy\u001b[0m\u001b[0;34m\u001b[0m\u001b[0m\n\u001b[0m\u001b[1;32m      3\u001b[0m \u001b[0mwidget\u001b[0m\u001b[0;34m\u001b[0m\u001b[0m\n",
        "\u001b[0;31mAttributeError\u001b[0m: 'TrajectoryWidget' object has no attribute '_toplogy'"
       ]
      }
     ],
     "prompt_number": 3
    },
    {
     "cell_type": "code",
     "collapsed": false,
     "input": [],
     "language": "python",
     "metadata": {},
     "outputs": []
    }
   ],
   "metadata": {}
  }
 ]
}