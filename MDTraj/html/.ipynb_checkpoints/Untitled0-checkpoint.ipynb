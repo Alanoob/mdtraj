{
 "metadata": {
  "name": "",
  "signature": "sha256:9e01dad363874e120dc23425943febae748e11ab820d8d74b7542a804d35be61"
 },
 "nbformat": 3,
 "nbformat_minor": 0,
 "worksheets": [
  {
   "cells": [
    {
     "cell_type": "code",
     "collapsed": false,
     "input": [
      "%load_ext autoreload\n",
      "%autoreload 2\n",
      "from __future__ import absolute_import\n",
      "import mdtraj as md\n",
      "t = md.load('/Users/rmcgibbo/projects/mdtraj/MDTraj/testing/reference/2EQQ.pdb')"
     ],
     "language": "python",
     "metadata": {},
     "outputs": [
      {
       "output_type": "stream",
       "stream": "stdout",
       "text": [
        "The autoreload extension is already loaded. To reload it, use:\n",
        "  %reload_ext autoreload\n"
       ]
      }
     ],
     "prompt_number": 13
    },
    {
     "cell_type": "code",
     "collapsed": false,
     "input": [
      "from trajectory_widget import TrajectoryWidget\n",
      "widget = TrajectoryWidget(t)\n",
      "widget"
     ],
     "language": "python",
     "metadata": {},
     "outputs": [],
     "prompt_number": 14
    },
    {
     "cell_type": "code",
     "collapsed": false,
     "input": [],
     "language": "python",
     "metadata": {},
     "outputs": []
    }
   ],
   "metadata": {}
  }
 ]
}