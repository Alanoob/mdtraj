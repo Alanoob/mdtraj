{
 "metadata": {
  "name": "",
  "signature": "sha256:80cdc8f166dbd5187421b194c7742433722d6c275db668782d0d935418aa8c3e"
 },
 "nbformat": 3,
 "nbformat_minor": 0,
 "worksheets": [
  {
   "cells": [
    {
     "cell_type": "code",
     "collapsed": false,
     "input": [
      "from IPython.display import IFrame\n",
      "IFrame('https://www.youtube.com/embed/AyS1_Lu2bU8', height=300, width=400)"
     ],
     "language": "python",
     "metadata": {},
     "outputs": [
      {
       "html": [
        "\n",
        "        <iframe\n",
        "            width=\"400\"\n",
        "            height=300\"\n",
        "            src=\"https://www.youtube.com/embed/AyS1_Lu2bU8\"\n",
        "            frameborder=\"0\"\n",
        "            allowfullscreen\n",
        "        ></iframe>\n",
        "        "
       ],
       "metadata": {},
       "output_type": "pyout",
       "prompt_number": 1,
       "text": [
        "<IPython.lib.display.IFrame at 0x105a22f10>"
       ]
      }
     ],
     "prompt_number": 1
    },
    {
     "cell_type": "code",
     "collapsed": false,
     "input": [
      "import mdtraj as md\n",
      "from mdtraj.testing import get_fn\n",
      "traj = md.load('/Users/cu3alibre/Desktop/L1500N15/paths/path2.xtc',top='/Users/cu3alibre/Desktop/L1000/sir2_bound_reference.pdb')\n",
      "traj.center_coordinates()"
     ],
     "language": "python",
     "metadata": {},
     "outputs": [
      {
       "metadata": {},
       "output_type": "pyout",
       "prompt_number": 16,
       "text": [
        "<mdtraj.Trajectory with 300 frames, 4288 atoms, 270 residues, without unitcells at 0x10a40a790>"
       ]
      }
     ],
     "prompt_number": 16
    },
    {
     "cell_type": "code",
     "collapsed": false,
     "input": [
      "from mdtraj.html import enable_notebook\n",
      "enable_notebook()"
     ],
     "language": "python",
     "metadata": {},
     "outputs": [
      {
       "javascript": [
        "\n",
        "require.config({\n",
        "    paths: {\n",
        "        'three': '//cdnjs.cloudflare.com/ajax/libs/three.js/r68/three.min',\n",
        "        'three/trackball' : '/nbextensions/TrackballControls',\n",
        "        'rmol' : '/nbextensions/rmol',\n",
        "    },\n",
        "    shim: {\n",
        "        'three': {\n",
        "            exports: 'THREE'\n",
        "        },\n",
        "    },\n",
        "});\n"
       ],
       "metadata": {},
       "output_type": "display_data",
       "text": [
        "<IPython.core.display.Javascript at 0x105b504d0>"
       ]
      },
      {
       "javascript": [
        "require([\n",
        "    \"widgets/js/widget\",\n",
        "    \"rmol\",\n",
        "    ],\n",
        "function(WidgetManager, RMol) {\n",
        "    var TrajectoryView = IPython.DOMWidgetView.extend({\n",
        "        render : function() {\n",
        "            var container = $(\"<div/>\").css({\n",
        "                            width: (this.model.attributes.width + 2) + 'px',\n",
        "                            height: (this.model.attributes.height + 2) + 'px',\n",
        "                            border:'1px solid #ccc',\n",
        "                            margin: 'auto'}).append(\n",
        "                                $('<div id=\"inner\">').css({\n",
        "                                    position: 'absolute',\n",
        "                                    width: this.model.attributes.width + 'px',\n",
        "                                    height: this.model.attributes.height + 'px',\n",
        "                                })\n",
        "                        );\n",
        "            this.setElement(container);\n",
        "            this.rmol = new RMol(container);\n",
        "            this.rmol.enableMouse();\n",
        "            this.update();            \n",
        "        },\n",
        "        \n",
        "        update : function () {\n",
        "            this.rmol.setTopology(this.model.attributes.topology);        \n",
        "            this.rmol.setXYZ(this.model.attributes.coordinates);\n",
        "            \n",
        "            var representation = {\n",
        "                color: this.model.attributes.color,\n",
        "                mainChain: this.model.attributes.mainChain,\n",
        "                sideChains: this.model.attributes.sideChains,\n",
        "            };\n",
        "            console.log('representation', representation);\n",
        "\n",
        "            this.rmol.setRepresentation(representation);\n",
        "            this.rmol.zoomInto(this.rmol.getAllAtoms());\n",
        "            this.rmol.render();\n",
        "            \n",
        "            return TrajectoryView.__super__.update.apply(this);\n",
        "        }\n",
        "    });\n",
        "    WidgetManager.register_widget_view('TrajectoryView', TrajectoryView);\n",
        "});"
       ],
       "metadata": {},
       "output_type": "display_data",
       "text": [
        "<IPython.core.display.Javascript at 0x1080a6f10>"
       ]
      },
      {
       "javascript": [
        "require([\"widgets/js/widget\"], function(WidgetManager){\n",
        "    var ImageButtonView = IPython.DOMWidgetView.extend({\n",
        "        render : function(){\n",
        "            // Called when view is rendered.\n",
        "            this.setElement($(\"<img />\"));\n",
        "            this.update(); // Set defaults.\n",
        "        },\n",
        "\n",
        "        update : function(){\n",
        "            // Update the contents of this view\n",
        "            //\n",
        "            // Called when the model is changed.  The model may have been \n",
        "            // changed by another view or by a state update from the back-end.\n",
        "            var image_src = 'data:image/' + this.model.get('format') + ';base64,' + this.model.get('_b64value');\n",
        "            console.log(this.model);\n",
        "            this.$el.attr('src', image_src);\n",
        "\n",
        "            var width = this.model.get('width');\n",
        "            if (width !== undefined && width.length > 0) {\n",
        "                this.$el.attr('width', width);\n",
        "            } else {\n",
        "                this.$el.removeAttr('width');\n",
        "            }\n",
        "            \n",
        "            var height = this.model.get('height');\n",
        "            if (height !== undefined && height.length > 0) {\n",
        "                this.$el.attr('height', height);\n",
        "            } else {\n",
        "                this.$el.removeAttr('height');\n",
        "            }\n",
        "            return ImageButtonView.__super__.update.apply(this);\n",
        "        },\n",
        "\n",
        "        events: {\n",
        "            // Dictionary of events and their handlers.\n",
        "            'click': '_handle_click',\n",
        "        },\n",
        "        \n",
        "        _handle_click: function(ev) {\n",
        "            // Handles when the button is clicked.\n",
        "            console.log(this.$el.offset());\n",
        "            var top = this.$el.offset().top;\n",
        "            var left = this.$el.offset().left;\n",
        "            var xAspect = this.$el.width() / this.$el[0].naturalWidth;\n",
        "            var yAspect = this.$el.height() / this.$el[0].naturalHeight;\n",
        "\n",
        "            \n",
        "            var x = (ev.pageX - left) / xAspect;\n",
        "            var y = (this.$el.height() - (ev.pageY - top)) / yAspect;\n",
        "            this.send({event: 'click', 'mouseX': x, 'mouseY': y});\n",
        "        },\n",
        "    });\n",
        "\n",
        "    // Register the DatePickerView with the widget manager.\n",
        "    WidgetManager.register_widget_view('ImageButtonView', ImageButtonView);\n",
        "});"
       ],
       "metadata": {},
       "output_type": "display_data",
       "text": [
        "<IPython.core.display.Javascript at 0x10a40a610>"
       ]
      }
     ],
     "prompt_number": 17
    },
    {
     "cell_type": "code",
     "collapsed": false,
     "input": [
      "from matplotlib.widgets import Slider\n",
      "from mdtraj.html import TrajectoryWidget\n",
      "from IPython.display import display\n",
      "from IPython.html import widgets\n",
      "from IPython.html.widgets import interact, IntSliderWidget\n",
      "widget = TrajectoryWidget(traj, frame=0, height=500, width=500, color='chain')\n",
      "def plot(frame):\n",
      "    widget.frame = frame\n",
      "widget"
     ],
     "language": "python",
     "metadata": {},
     "outputs": [],
     "prompt_number": 70
    },
    {
     "cell_type": "code",
     "collapsed": false,
     "input": [
      "interact(plot, frame=IntSliderWidget(min=0,max=299,step=1,value=0))"
     ],
     "language": "python",
     "metadata": {},
     "outputs": [],
     "prompt_number": 66
    },
    {
     "cell_type": "code",
     "collapsed": false,
     "input": [
      "sideChains='line'"
     ],
     "language": "python",
     "metadata": {},
     "outputs": [],
     "prompt_number": 68
    },
    {
     "cell_type": "code",
     "collapsed": false,
     "input": [],
     "language": "python",
     "metadata": {},
     "outputs": []
    }
   ],
   "metadata": {}
  }
 ]
}