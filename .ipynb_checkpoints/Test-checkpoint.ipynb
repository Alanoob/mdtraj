{
 "metadata": {
  "name": "",
  "signature": "sha256:2322b1c9449ce2c39be84415c5dc07e513c8b7bab7ffeac2108e813caccf273c"
 },
 "nbformat": 3,
 "nbformat_minor": 0,
 "worksheets": []
}