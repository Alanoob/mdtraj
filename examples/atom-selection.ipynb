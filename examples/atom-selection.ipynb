{
 "metadata": {
  "name": "",
  "signature": "sha256:3fd80de511333aac2054dcc4045172bc5ea6971ccb85ebe941ebb4b1c8c8361a"
 },
 "nbformat": 3,
 "nbformat_minor": 0,
 "worksheets": [
  {
   "cells": [
    {
     "cell_type": "markdown",
     "metadata": {},
     "source": [
      "Atom Selection\n",
      "==="
     ]
    },
    {
     "cell_type": "markdown",
     "metadata": {},
     "source": [
      "Basics\n",
      "---\n",
      "In this example, we'll go over the basics of atom and reside selection in MDTraj. First let's load up an example trajectory."
     ]
    },
    {
     "cell_type": "code",
     "collapsed": false,
     "input": [
      "import mdtraj as md\n",
      "traj = md.load('ala2.h5')\n",
      "print traj"
     ],
     "language": "python",
     "metadata": {},
     "outputs": [
      {
       "output_type": "stream",
       "stream": "stdout",
       "text": [
        "<mdtraj.Trajectory with 100 frames, 22 atoms, 3 residues, without unitcells>\n"
       ]
      }
     ],
     "prompt_number": 1
    },
    {
     "cell_type": "markdown",
     "metadata": {},
     "source": [
      "We can also more directly find out how many atoms or residues there are by using `traj.n_atoms` and `traj.n_residues`."
     ]
    },
    {
     "cell_type": "code",
     "collapsed": false,
     "input": [
      "print 'How many atoms? %s' % traj.n_atoms\n",
      "print 'How many residues? %s' % traj.n_residues"
     ],
     "language": "python",
     "metadata": {},
     "outputs": [
      {
       "output_type": "stream",
       "stream": "stdout",
       "text": [
        "How many atoms? 22\n",
        "How many residues? 3\n"
       ]
      }
     ],
     "prompt_number": 2
    },
    {
     "cell_type": "markdown",
     "metadata": {},
     "source": [
      "We can also manipulate the atom positions by working with `traj.xyz`, which is a NumPy array contain the xyz coordinated of each atom with dimensions (n_frames, n_atoms, 3). Let's find the 3D coordinates of the tenth atom in frame 5."
     ]
    },
    {
     "cell_type": "code",
     "collapsed": false,
     "input": [
      "frame_idx = 4 # zero indexed frame number\n",
      "atom_idx = 9 # zero indexed atom index\n",
      "print 'Where is the fifth atom at the tenth frame?'\n",
      "print 'x: %s\\ty: %s\\tz: %s' % tuple(traj.xyz[frame_idx, atom_idx,:])"
     ],
     "language": "python",
     "metadata": {},
     "outputs": [
      {
       "output_type": "stream",
       "stream": "stdout",
       "text": [
        "Where is the fifth atom at the tenth frame?\n",
        "x: 0.697151\ty: 0.92419\tz: 0.872604\n"
       ]
      }
     ],
     "prompt_number": 3
    },
    {
     "cell_type": "markdown",
     "metadata": {},
     "source": [
      "Topology Object\n",
      "---"
     ]
    },
    {
     "cell_type": "markdown",
     "metadata": {},
     "source": [
      "As mentioned previously in the introduction, every `Trajectory` object contains a `Topology`. The `Topology` of a `Trajectory` contains all the connectivity information of your system and specific chain, residue, and atom information."
     ]
    },
    {
     "cell_type": "code",
     "collapsed": false,
     "input": [
      "topology = traj.topology\n",
      "print topology"
     ],
     "language": "python",
     "metadata": {},
     "outputs": [
      {
       "output_type": "stream",
       "stream": "stdout",
       "text": [
        "<mdtraj.Topology with 1 chains, 3 residues, 22 atoms, 21 bonds>\n"
       ]
      }
     ],
     "prompt_number": 4
    },
    {
     "cell_type": "markdown",
     "metadata": {},
     "source": [
      "With the topology object we can select a certain `atom`, or loop through them all. (Note: everything is zero-indexed)"
     ]
    },
    {
     "cell_type": "code",
     "collapsed": false,
     "input": [
      "print 'Fifth atom: %s' % topology.atom(4)\n",
      "print 'All atoms: %s' % [atom for atom in topology.atoms]"
     ],
     "language": "python",
     "metadata": {},
     "outputs": [
      {
       "output_type": "stream",
       "stream": "stdout",
       "text": [
        "Fifth atom: ACE1-C\n",
        "All atoms: [ACE1-H1, ACE1-CH3, ACE1-H2, ACE1-H3, ACE1-C, ACE1-O, ALA2-N, ALA2-H, ALA2-CA, ALA2-HA, ALA2-CB, ALA2-HB1, ALA2-HB2, ALA2-HB3, ALA2-C, ALA2-O, NME3-N, NME3-H, NME3-C, NME3-H1, NME3-H2, NME3-H3]\n"
       ]
      }
     ],
     "prompt_number": 5
    },
    {
     "cell_type": "markdown",
     "metadata": {},
     "source": [
      "The same goes for residues."
     ]
    },
    {
     "cell_type": "code",
     "collapsed": false,
     "input": [
      "print 'Second residue: %s' % traj.topology.residue(1)\n",
      "print 'All residues: %s' % [residue for residue in traj.topology.residues]"
     ],
     "language": "python",
     "metadata": {},
     "outputs": [
      {
       "output_type": "stream",
       "stream": "stdout",
       "text": [
        "Second residue: ALA2\n",
        "All residues: [ACE1, ALA2, NME3]\n"
       ]
      }
     ],
     "prompt_number": 6
    },
    {
     "cell_type": "markdown",
     "metadata": {},
     "source": [
      "Additionally, every `atom` and `residue` is also an object, and has it's own set of properties. Here is a simple example that showcases just a few."
     ]
    },
    {
     "cell_type": "code",
     "collapsed": false,
     "input": [
      "atom = topology.atom(10)\n",
      "print '''Hi! I am the %sth atom, and my name is %s. \n",
      "I am a %s atom with %s bonds. \n",
      "I am part of an %s residue.''' % ( atom.index, atom.name, atom.element.name, atom.n_bonds, atom.residue.name)                                                                                                "
     ],
     "language": "python",
     "metadata": {},
     "outputs": [
      {
       "output_type": "stream",
       "stream": "stdout",
       "text": [
        "Hi! I am the 10th atom, and my name is CB. \n",
        "I am a carbon atom with 4 bonds. \n",
        "I am part of an ALA residue.\n"
       ]
      }
     ],
     "prompt_number": 7
    },
    {
     "cell_type": "markdown",
     "metadata": {},
     "source": [
      "There are also more complex properties, like `atom.is_sidechain` or `residue.is_protein`, which allow for more powerful selections."
     ]
    },
    {
     "cell_type": "markdown",
     "metadata": {},
     "source": [
      "Putting Everything Together\n",
      "---"
     ]
    },
    {
     "cell_type": "markdown",
     "metadata": {},
     "source": [
      "Hopefully, you can see how these properties can be combined with Python's filtered list functionality. Let's say we want the indices of all carbon atoms in the sidechains of our molecule. We could try something like this."
     ]
    },
    {
     "cell_type": "code",
     "collapsed": false,
     "input": [
      "print [atom.index for atom in topology.atoms if atom.element.symbol is 'C' and atom.is_sidechain]"
     ],
     "language": "python",
     "metadata": {},
     "outputs": [
      {
       "output_type": "stream",
       "stream": "stdout",
       "text": [
        "[1, 4, 8, 10, 14, 18]\n"
       ]
      }
     ],
     "prompt_number": 8
    },
    {
     "cell_type": "markdown",
     "metadata": {},
     "source": [
      "Or maybe we want all even-indexed residues in the first chain (Although this example only has the one chain....)."
     ]
    },
    {
     "cell_type": "code",
     "collapsed": false,
     "input": [
      "print [residue for residue in topology.chain(0).residues if mod(residue.index,2) == 0]"
     ],
     "language": "python",
     "metadata": {},
     "outputs": [
      {
       "output_type": "stream",
       "stream": "stdout",
       "text": [
        "[ACE1, NME3]\n"
       ]
      }
     ],
     "prompt_number": 9
    },
    {
     "cell_type": "markdown",
     "metadata": {},
     "source": [
      "Atom Selection Language\n",
      "---"
     ]
    },
    {
     "cell_type": "markdown",
     "metadata": {},
     "source": [
      "If you're hesistant about programming filtered lists like the ones above, MDTraj also features a rich atom selection language, similar to that of PyMol and VMD. You can access it by using `topology.select`. Let's find all atoms in the last two residues."
     ]
    },
    {
     "cell_type": "code",
     "collapsed": false,
     "input": [
      "print topology.select('resid 1 to 2')"
     ],
     "language": "python",
     "metadata": {},
     "outputs": [
      {
       "output_type": "stream",
       "stream": "stdout",
       "text": [
        "[ 6  7  8  9 10 11 12 13 14 15 16 17 18 19 20 21]\n"
       ]
      }
     ],
     "prompt_number": 10
    },
    {
     "cell_type": "markdown",
     "metadata": {},
     "source": [
      "You can also do more complex operations. Here, we're looking for all nitrogen atoms in the backbone."
     ]
    },
    {
     "cell_type": "code",
     "collapsed": false,
     "input": [
      "print topology.select('name N and backbone')"
     ],
     "language": "python",
     "metadata": {},
     "outputs": [
      {
       "output_type": "stream",
       "stream": "stdout",
       "text": [
        "[ 6 16]\n"
       ]
      }
     ],
     "prompt_number": 11
    },
    {
     "cell_type": "markdown",
     "metadata": {},
     "source": [
      "If you ever want to see the code that generates these results you can use `select_expression`, which will yield a string represention of the atom selection code."
     ]
    },
    {
     "cell_type": "code",
     "collapsed": false,
     "input": [
      "selection = topology.select_expression('name CA and resid 1 to 2')\n",
      "print selection"
     ],
     "language": "python",
     "metadata": {},
     "outputs": [
      {
       "output_type": "stream",
       "stream": "stdout",
       "text": [
        "[atom.index for atom in topology.atoms if ((atom.name == 'CA') and (1 <= atom.residue.index <= 2))]\n"
       ]
      }
     ],
     "prompt_number": 12
    }
   ],
   "metadata": {}
  }
 ]
}