{
 "metadata": {
  "name": "",
  "signature": "sha256:94be9daae0edf9eddb8f578ca22b5fed1cbb6ccfdb14456ecc3a321e52aa11cc"
 },
 "nbformat": 3,
 "nbformat_minor": 0,
 "worksheets": [
  {
   "cells": [
    {
     "cell_type": "markdown",
     "metadata": {},
     "source": [
      "## Interactive WebGL trajectory widget\n",
      "\n",
      "Note: this feature requires a 'running' notebook, connected to a live kernel. It will not work with a staticly rendered display. For an introduction to the IPython interactive widget system and its capabilities, see this talk by Brian Granger\n",
      "http://player.vimeo.com/video/79832657#t=30m\n"
     ]
    },
    {
     "cell_type": "markdown",
     "metadata": {},
     "source": [
      "Let's start by just loading up a PDB file from the RCSB"
     ]
    },
    {
     "cell_type": "code",
     "collapsed": false,
     "input": [
      "import mdtraj as md\n",
      "traj = md.load_pdb('http://www.rcsb.org/pdb/files/2SRC.pdb')"
     ],
     "language": "python",
     "metadata": {},
     "outputs": []
    },
    {
     "cell_type": "markdown",
     "metadata": {},
     "source": [
      "To enable these features, we first need to run `enable_notebook` to initialize\n",
      "the required javascript."
     ]
    },
    {
     "cell_type": "code",
     "collapsed": false,
     "input": [
      "from mdtraj.html import TrajectoryView, enable_notebook\n",
      "enable_notebook()"
     ],
     "language": "python",
     "metadata": {},
     "outputs": []
    },
    {
     "cell_type": "markdown",
     "metadata": {},
     "source": [
      "The WebGL viewer engine is called iview, and is introduced in the following [paper](http://www.biomedcentral.com/1471-2105/15/56): Li, Hongjian, et al. \"iview: an interactive WebGL visualizer for protein-ligand complex.\" BMC Bioinformatics 15.1 (2014): 56."
     ]
    },
    {
     "cell_type": "code",
     "collapsed": false,
     "input": [
      "# Controls:\n",
      "#  - default mouse to rotate.\n",
      "#  - ctrl to translate\n",
      "#  - shift to zoom (or use wheel)\n",
      "#  - shift+ctrl to change the fog\n",
      "#  - double click to toggle full screen\n",
      "\n",
      "TrajectoryView(traj, frame=0)"
     ],
     "language": "python",
     "metadata": {},
     "outputs": []
    },
    {
     "cell_type": "code",
     "collapsed": false,
     "input": [],
     "language": "python",
     "metadata": {},
     "outputs": []
    }
   ],
   "metadata": {}
  }
 ]
}