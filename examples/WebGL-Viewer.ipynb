{
 "metadata": {
  "name": "",
  "signature": "sha256:1fb18c2f85cc139133af8066cdcc331ba9949c1f488fcb21be010affe0b95ced"
 },
 "nbformat": 3,
 "nbformat_minor": 0,
 "worksheets": [
  {
   "cells": [
    {
     "cell_type": "markdown",
     "metadata": {},
     "source": [
      "## Interactive WebGL trajectory widget\n",
      "\n",
      "[Note: this feature requires a 'running' notebook, connected to a live kernel. It will not work with"
     ]
    },
    {
     "cell_type": "markdown",
     "metadata": {},
     "source": [
      "For an introduction to the IPython interactive widget system and its capabilities, see this talk by Brian Granger"
     ]
    },
    {
     "cell_type": "code",
     "collapsed": false,
     "input": [
      "from IPython.display import IFrame\n",
      "IFrame('//player.vimeo.com/video/79832657#t=30m', height=300, width=400)"
     ],
     "language": "python",
     "metadata": {},
     "outputs": []
    },
    {
     "cell_type": "markdown",
     "metadata": {},
     "source": [
      "Let's start by just loading up a PDB file from the RCSB"
     ]
    },
    {
     "cell_type": "code",
     "collapsed": false,
     "input": [],
     "language": "python",
     "metadata": {},
     "outputs": []
    },
    {
     "cell_type": "markdown",
     "metadata": {},
     "source": [
      "To enable these features, we first need to run `enable_notebook` to initialize\n",
      "the required javascript."
     ]
    },
    {
     "cell_type": "code",
     "collapsed": false,
     "input": [
      "import mdtraj as md\n",
      "from mdtraj.html import TrajectoryWidget, enable_notebook\n",
      "enable_notebook()"
     ],
     "language": "python",
     "metadata": {},
     "outputs": []
    },
    {
     "cell_type": "code",
     "collapsed": false,
     "input": [
      "traj = md.load_pdb('http://www.rcsb.org/pdb/files/2SRC.pdb')\n",
      "TrajectoryWidget(traj, frame=0)"
     ],
     "language": "python",
     "metadata": {},
     "outputs": []
    },
    {
     "cell_type": "code",
     "collapsed": false,
     "input": [],
     "language": "python",
     "metadata": {},
     "outputs": []
    },
    {
     "cell_type": "code",
     "collapsed": false,
     "input": [],
     "language": "python",
     "metadata": {},
     "outputs": []
    },
    {
     "cell_type": "code",
     "collapsed": false,
     "input": [],
     "language": "python",
     "metadata": {},
     "outputs": []
    },
    {
     "cell_type": "code",
     "collapsed": false,
     "input": [],
     "language": "python",
     "metadata": {},
     "outputs": []
    }
   ],
   "metadata": {}
  }
 ]
}