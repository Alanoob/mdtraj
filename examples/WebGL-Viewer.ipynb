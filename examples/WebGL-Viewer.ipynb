{
 "metadata": {
  "name": "",
  "signature": "sha256:d9479851944ae2266bc894796ff423e3a3066b91a50c7c158dd94d80b2391182"
 },
 "nbformat": 3,
 "nbformat_minor": 0,
 "worksheets": [
  {
   "cells": [
    {
     "cell_type": "markdown",
     "metadata": {},
     "source": [
      "## Interactive WebGL trajectory widget\n",
      "\n",
      "[Note: this feature requires a 'running' notebook, connected to a live kernel. It will not work with"
     ]
    },
    {
     "cell_type": "markdown",
     "metadata": {},
     "source": [
      "For an introduction to the IPython interactive widget system and its capabilities, see this talk by Brian Granger"
     ]
    },
    {
     "cell_type": "code",
     "collapsed": false,
     "input": [
      "from IPython.display import IFrame\n",
      "IFrame('//player.vimeo.com/video/79832657#t=30m', height=300, width=400)"
     ],
     "language": "python",
     "metadata": {},
     "outputs": []
    },
    {
     "cell_type": "markdown",
     "metadata": {},
     "source": [
      "Let's start by just loading up a PDB file from the RCSB"
     ]
    },
    {
     "cell_type": "code",
     "collapsed": false,
     "input": [
      "import mdtraj as md\n",
      "from mdtraj.testing import get_fn\n",
      "traj = md.load_pdb('http://www.rcsb.org/pdb/files/2SRC.pdb')\n",
      "traj.center_coordinates()"
     ],
     "language": "python",
     "metadata": {},
     "outputs": []
    },
    {
     "cell_type": "markdown",
     "metadata": {},
     "source": [
      "To enable these features, we first need to run `enable_notebook` to initialize\n",
      "the required javascript."
     ]
    },
    {
     "cell_type": "code",
     "collapsed": false,
     "input": [
      "from mdtraj.html import enable_notebook\n",
      "enable_notebook()"
     ],
     "language": "python",
     "metadata": {},
     "outputs": []
    },
    {
     "cell_type": "code",
     "collapsed": false,
     "input": [
      "from mdtraj.html import TrajectoryWidget\n",
      "widget = TrajectoryWidget(traj, frame=0, height=500, width=500)\n",
      "widget"
     ],
     "language": "python",
     "metadata": {},
     "outputs": []
    },
    {
     "cell_type": "code",
     "collapsed": false,
     "input": [
      "widget.sideChains = 'line'"
     ],
     "language": "python",
     "metadata": {},
     "outputs": []
    },
    {
     "cell_type": "code",
     "collapsed": false,
     "input": [],
     "language": "python",
     "metadata": {},
     "outputs": []
    }
   ],
   "metadata": {}
  }
 ]
}