{
 "metadata": {
  "name": "",
  "signature": "sha256:3f69c1ef3c6a403c8e6b84690638fb661cb1c731984d2faac582c2e2f5292317"
 },
 "nbformat": 3,
 "nbformat_minor": 0,
 "worksheets": [
  {
   "cells": [
    {
     "cell_type": "markdown",
     "metadata": {},
     "source": [
      "## Interactive WebGL trajectory widget\n",
      "\n",
      "[Note: this feature requires a 'running' notebook, connected to a live kernel. It will not work with"
     ]
    },
    {
     "cell_type": "markdown",
     "metadata": {},
     "source": [
      "For an introduction to the IPython interactive widget system and its capabilities, see this talk by Brian Granger"
     ]
    },
    {
     "cell_type": "code",
     "collapsed": false,
     "input": [
      "from IPython.display import IFrame\n",
      "IFrame('//player.vimeo.com/video/79832657#t=30m', height=300, width=400)"
     ],
     "language": "python",
     "metadata": {},
     "outputs": []
    },
    {
     "cell_type": "markdown",
     "metadata": {},
     "source": [
      "Let's start by just loading up a PDB file from the RCSB"
     ]
    },
    {
     "cell_type": "code",
     "collapsed": false,
     "input": [
      "import mdtraj as md\n",
      "from mdtraj.testing import get_fn\n",
      "traj = md.load_pdb('http://www.rcsb.org/pdb/files/2SRC.pdb')\n",
      "traj.center_coordinates()"
     ],
     "language": "python",
     "metadata": {},
     "outputs": [
      {
       "metadata": {},
       "output_type": "pyout",
       "prompt_number": 1,
       "text": [
        "<mdtraj.Trajectory with 1 frames, 3915 atoms, 720 residues, and unitcells at 0x107b769d0>"
       ]
      }
     ],
     "prompt_number": 1
    },
    {
     "cell_type": "markdown",
     "metadata": {},
     "source": [
      "To enable these features, we first need to run `enable_notebook` to initialize\n",
      "the required javascript."
     ]
    },
    {
     "cell_type": "code",
     "collapsed": false,
     "input": [
      "from mdtraj.html import enable_notebook\n",
      "enable_notebook()"
     ],
     "language": "python",
     "metadata": {},
     "outputs": [
      {
       "javascript": [
        "\n",
        "require.config({\n",
        "    paths: {\n",
        "        'three': '//cdnjs.cloudflare.com/ajax/libs/three.js/r68/three.min',\n",
        "        'iview' : '/nbextensions/iview',\n",
        "    },\n",
        "    shim: {\n",
        "        'three': {\n",
        "            exports: 'THREE'\n",
        "        },\n",
        "        'iview': {\n",
        "            deps: ['three'],\n",
        "            exports: 'iview'\n",
        "        },\n",
        "    },\n",
        "});\n"
       ],
       "metadata": {},
       "output_type": "display_data",
       "text": [
        "<IPython.core.display.Javascript at 0x1044447d0>"
       ]
      },
      {
       "javascript": [
        "/*\n",
        "This script creates and registers the TrajectoryView widget on the\n",
        "browser side. Basically, it's a small div, with the RMol viewer (WebGL-based\n",
        "protein visualization) hooked in. Changes to the class on the python side\n",
        "propagate here and modify `this.model.attributes`, and re-call `update`.\n",
        "*/\n",
        "\n",
        "require([\n",
        "    \"widgets/js/widget\",\n",
        "    \"iview\",\n",
        "    ],\n",
        "function(WidgetManager, iview) {\n",
        "    var TrajectoryView = IPython.DOMWidgetView.extend({\n",
        "        render : function() {\n",
        "            var container = $(\"<div/>\").css({\n",
        "                            width: (this.model.attributes.width + 2) + 'px',\n",
        "                            height: (this.model.attributes.height + 2) + 'px',\n",
        "                            border:'1px solid #ccc',\n",
        "                            margin: 'auto'}).append(\n",
        "                                $('<div id=\"inner\">').css({\n",
        "                                    position: 'absolute',\n",
        "                                    width: this.model.attributes.width + 'px',\n",
        "                                    height: this.model.attributes.height + 'px',\n",
        "                                })\n",
        "                        );\n",
        "            this.setElement(container);\n",
        "            this.rmol = new iview(container);\n",
        "            this.rmol.enableMouse();\n",
        "            this.update();            \n",
        "        },\n",
        "        \n",
        "        update : function () {\n",
        "            /* This could definitely be done more efficiently. Right now we're\n",
        "            just recreating and redrawing everything. For the (presumably)\n",
        "            common use case where you just want to update the positions to the\n",
        "            next frame in a trajectory, there's no real need to redefine the\n",
        "            topology and representation.\n",
        "            */\n",
        "            this.rmol.setTopology(this.model.attributes.topology);        \n",
        "            this.rmol.setXYZ(this.model.attributes.coordinates);\n",
        "            \n",
        "            var representation = {\n",
        "                color: this.model.attributes.color,\n",
        "                mainChain: this.model.attributes.mainChain,\n",
        "                sideChains: this.model.attributes.sideChains,\n",
        "            };\n",
        "            this.rmol.setRepresentation(representation);\n",
        "            this.rmol.zoomInto(this.rmol.getAllAtoms());\n",
        "            this.rmol.render();\n",
        "            \n",
        "            return TrajectoryView.__super__.update.apply(this);\n",
        "        }\n",
        "    });\n",
        "    WidgetManager.register_widget_view('TrajectoryView', TrajectoryView);\n",
        "});"
       ],
       "metadata": {},
       "output_type": "display_data",
       "text": [
        "<IPython.core.display.Javascript at 0x104444d10>"
       ]
      },
      {
       "javascript": [
        "require([\"widgets/js/widget\"], function(WidgetManager){\n",
        "    var ImageButtonView = IPython.DOMWidgetView.extend({\n",
        "        render : function(){\n",
        "            // Called when view is rendered.\n",
        "            this.setElement($(\"<img />\"));\n",
        "            this.update(); // Set defaults.\n",
        "        },\n",
        "\n",
        "        update : function(){\n",
        "            // Update the contents of this view\n",
        "            //\n",
        "            // Called when the model is changed.  The model may have been \n",
        "            // changed by another view or by a state update from the back-end.\n",
        "            var image_src = 'data:image/' + this.model.get('format') + ';base64,' + this.model.get('_b64value');\n",
        "            console.log(this.model);\n",
        "            this.$el.attr('src', image_src);\n",
        "\n",
        "            var width = this.model.get('width');\n",
        "            if (width !== undefined && width.length > 0) {\n",
        "                this.$el.attr('width', width);\n",
        "            } else {\n",
        "                this.$el.removeAttr('width');\n",
        "            }\n",
        "            \n",
        "            var height = this.model.get('height');\n",
        "            if (height !== undefined && height.length > 0) {\n",
        "                this.$el.attr('height', height);\n",
        "            } else {\n",
        "                this.$el.removeAttr('height');\n",
        "            }\n",
        "            return ImageButtonView.__super__.update.apply(this);\n",
        "        },\n",
        "\n",
        "        events: {\n",
        "            // Dictionary of events and their handlers.\n",
        "            'click': '_handle_click',\n",
        "        },\n",
        "        \n",
        "        _handle_click: function(ev) {\n",
        "            // Handles when the button is clicked.\n",
        "            console.log(this.$el.offset());\n",
        "            var top = this.$el.offset().top;\n",
        "            var left = this.$el.offset().left;\n",
        "            var xAspect = this.$el.width() / this.$el[0].naturalWidth;\n",
        "            var yAspect = this.$el.height() / this.$el[0].naturalHeight;\n",
        "\n",
        "            \n",
        "            var x = (ev.pageX - left) / xAspect;\n",
        "            var y = (this.$el.height() - (ev.pageY - top)) / yAspect;\n",
        "            this.send({event: 'click', 'mouseX': x, 'mouseY': y});\n",
        "        },\n",
        "    });\n",
        "\n",
        "    // Register the DatePickerView with the widget manager.\n",
        "    WidgetManager.register_widget_view('ImageButtonView', ImageButtonView);\n",
        "});"
       ],
       "metadata": {},
       "output_type": "display_data",
       "text": [
        "<IPython.core.display.Javascript at 0x10905c110>"
       ]
      }
     ],
     "prompt_number": 2
    },
    {
     "cell_type": "code",
     "collapsed": false,
     "input": [
      "from mdtraj.html import TrajectoryWidget\n",
      "widget = TrajectoryWidget(traj, frame=0, height=500, width=500)\n",
      "widget"
     ],
     "language": "python",
     "metadata": {},
     "outputs": [],
     "prompt_number": 3
    },
    {
     "cell_type": "code",
     "collapsed": false,
     "input": [],
     "language": "python",
     "metadata": {},
     "outputs": []
    },
    {
     "cell_type": "code",
     "collapsed": false,
     "input": [],
     "language": "python",
     "metadata": {},
     "outputs": []
    }
   ],
   "metadata": {}
  }
 ]
}